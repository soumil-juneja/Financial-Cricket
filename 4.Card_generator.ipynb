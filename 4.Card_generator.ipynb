{
  "nbformat": 4,
  "nbformat_minor": 0,
  "metadata": {
    "colab": {
      "provenance": []
    },
    "kernelspec": {
      "name": "python3",
      "display_name": "Python 3"
    },
    "language_info": {
      "name": "python"
    }
  },
  "cells": [
    {
      "cell_type": "code",
      "execution_count": null,
      "metadata": {
        "id": "oKPEYovxhG94"
      },
      "outputs": [],
      "source": [
        "import reportlab\n",
        "from reportlab.pdfgen import canvas\n",
        "from reportlab.pdfbase import pdfmetrics\n",
        "from reportlab.pdfbase.ttfonts import TTFont\n",
        "from reportlab.lib.utils import ImageReader\n",
        "import pandas as pd\n",
        "\n",
        "# Register font\n",
        "pdfmetrics.registerFont(TTFont('Lato-Regular', '/content/fonts/Lato-Regular.ttf'))\n",
        "\n",
        "# Read data from CSV\n",
        "df = pd.read_csv('/content/Batsman.csv')\n",
        "\n",
        "# Define output PDF filename\n",
        "output_pdf = \"/content/Batsman_Stats.pdf\"\n",
        "\n",
        "# Load background image to get its size\n",
        "img_path = \"/content/Bat.jpg\"\n",
        "img = ImageReader(img_path)\n",
        "img_width, img_height = img.getSize()\n",
        "\n",
        "# Create a single PDF file\n",
        "c = canvas.Canvas(output_pdf, pagesize=(img_width, img_height))\n",
        "\n",
        "def add_certificate(c, player, matches, innings, runs, avg, strike_rate, hs):\n",
        "    \"\"\"Adds a player's stats as a new page in the PDF.\"\"\"\n",
        "    # Draw background image\n",
        "    c.drawImage(img_path, 0, 0, width=img_width, height=img_height)\n",
        "\n",
        "    # Set text color to white\n",
        "    c.setFillColorRGB(255, 255, 255)\n",
        "\n",
        "    # Player Name\n",
        "    c.setFont('Lato-Regular', 80)\n",
        "    c.drawCentredString(img_width / 2, img_height - 350, str(player))\n",
        "\n",
        "    # Data values with corrected placement\n",
        "    c.setFont('Lato-Regular', 44)\n",
        "    c.drawCentredString(img_width * 0.43, img_height * 0.21, str(int(matches)) if pd.notna(matches) else \"N/A\")   # Matches\n",
        "    c.drawCentredString(img_width * 0.9, img_height * 0.21, str(int(innings)) if pd.notna(innings) else \"N/A\")  # Innings\n",
        "\n",
        "    c.drawCentredString(img_width * 0.43, img_height * 0.15, str(avg))  # Average\n",
        "    c.drawCentredString(img_width * 0.9, img_height * 0.15, str(strike_rate))  # Strike Rate\n",
        "\n",
        "    c.drawCentredString(img_width * 0.43, img_height * 0.09, str(int(runs)) if pd.notna(runs) else \"N/A\")  # Runs\n",
        "    c.drawCentredString(img_width * 0.9, img_height * 0.09, str(int(hs)) if pd.notna(hs) else \"N/A\")  # High Score\n",
        "\n",
        "    # Move to the next page\n",
        "    c.showPage()\n",
        "\n",
        "# Loop through all players and add their stats\n",
        "for i in df.index:\n",
        "    add_certificate(\n",
        "        c, df['PLAYER'][i], df['MATCHES'][i], df['INNINGS'][i],\n",
        "        df['AVERAGE'][i], df['STRIKE RATE'][i],df['RUNS'][i],  df['HIGH SCORE'][i]\n",
        "    )\n",
        "\n",
        "# Save the final PDF\n",
        "c.save()\n",
        "\n",
        "print(f\"PDF generated successfully: {output_pdf}\")"
      ]
    },
    {
      "cell_type": "code",
      "source": [],
      "metadata": {
        "id": "gzKJGsu9iSEd"
      },
      "execution_count": null,
      "outputs": []
    }
  ]
}
